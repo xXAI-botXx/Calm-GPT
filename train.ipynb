{
 "cells": [
  {
   "cell_type": "markdown",
   "metadata": {},
   "source": [
    "# Fine Tune GPT-2 Model"
   ]
  },
  {
   "cell_type": "markdown",
   "metadata": {},
   "source": [
    "Open Questions:\n",
    "- Is it useful to add \\<bot> statement as preparing step?"
   ]
  },
  {
   "cell_type": "markdown",
   "metadata": {},
   "source": [
    "Hint: Use the dialogs.txt file to train the model on google colab."
   ]
  },
  {
   "cell_type": "markdown",
   "metadata": {},
   "source": [
    "### Imports"
   ]
  },
  {
   "cell_type": "code",
   "execution_count": 2,
   "metadata": {},
   "outputs": [
    {
     "name": "stdout",
     "output_type": "stream",
     "text": [
      "Python 3.9.1\n"
     ]
    }
   ],
   "source": [
    "!python --version"
   ]
  },
  {
   "cell_type": "code",
   "execution_count": 4,
   "metadata": {},
   "outputs": [],
   "source": [
    "#!python -m pip install torch\n",
    "#!python -m pip install transformers"
   ]
  },
  {
   "cell_type": "code",
   "execution_count": 32,
   "metadata": {},
   "outputs": [],
   "source": [
    "#from transformers import GPT2Tokenizer, GPT2LMHeadModel\n",
    "import pandas as pd\n",
    "import os\n",
    "\n",
    "import json\n",
    "\n",
    "import transformers\n",
    "import torch\n",
    "from torch.utils.data import DataLoader, Dataset\n",
    "from torch.optim import Adam"
   ]
  },
  {
   "cell_type": "markdown",
   "metadata": {},
   "source": [
    "### Load and Prepare the data"
   ]
  },
  {
   "cell_type": "code",
   "execution_count": 47,
   "metadata": {},
   "outputs": [],
   "source": [
    "class Dialog_Data(Dataset):\n",
    "    \n",
    "    def __init__(self, tokenizer, data_dir_path=\"./data\", read_one_file=False):\n",
    "        self.tokenizer = tokenizer\n",
    "        self.data_dir_path = data_dir_path\n",
    "        self.read_data(read_one_file, read_one_file)\n",
    "\n",
    "    def read_data(self, data_dir_path, read_one_file, should_save_as_one_file=True):\n",
    "        data = []\n",
    "        if read_one_file:\n",
    "            with open(\"./dialogs.txt\", \"r\") as f:\n",
    "                raw = f.read()\n",
    "            for dialog in raw.split(\";\"):\n",
    "                data += [dialog]\n",
    "        else:\n",
    "            for dialog in os.listdir(self.data_dir_path):\n",
    "                    with open(f\"{self.data_dir_path}/{dialog}\", \"r\") as f:\n",
    "                        for idx, line in enumerate(f.read().split(\"\\n\\n\")):\n",
    "                            content = \":\".join(line.split(\":\")[1:]).strip()\n",
    "                            if idx == 0:\n",
    "                                data += [f\"Create me a unique interactive story to calm with the topic: {content}\"]\n",
    "                            else:\n",
    "                                data += [content]\n",
    "            if should_save_as_one_file:\n",
    "                save_data = \"\"\n",
    "                for idx, elem in enumerate(data):\n",
    "                    if idx == 0:\n",
    "                        save_data += f\"{elem}\"\n",
    "                    else:\n",
    "                        save_data += f\";{elem}\"\n",
    "                with open(\"./dialogs.txt\", \"w\") as f:\n",
    "                    f.write(save_data)\n",
    "\n",
    "        # add markers: \n",
    "        for idx in range(0, len(data)-1):    # last elem should be skipped\n",
    "            data[idx] = f\"<startofstring> {data[idx]} <bot>:{data[idx+1]} <endofstring>\"\n",
    "\n",
    "        self.data = data[:-1]\n",
    "        self.encoded_data = self.tokenizer(self.data, truncation=True)\n",
    "\n",
    "        self.input_ids = self.encoded_data['input_ids']\n",
    "        self.attention_mask = self.encoded_data['attention_mask']\n",
    " \n",
    "    def __len__(self):\n",
    "        return len(self.data)\n",
    " \n",
    "    def __getitem__(self, idx):\n",
    "        return (self.input_ids[idx], self.attention_mask[idx])"
   ]
  },
  {
   "cell_type": "code",
   "execution_count": 42,
   "metadata": {},
   "outputs": [
    {
     "data": {
      "text/plain": [
       "1"
      ]
     },
     "execution_count": 42,
     "metadata": {},
     "output_type": "execute_result"
    }
   ],
   "source": [
    "tokenizer = transformers.AutoTokenizer.from_pretrained(\"gpt2\")\n",
    "tokenizer.add_special_tokens({  \"pad_token\": \"<pad>\",\n",
    "                                \"bos_token\": \"<startofstring>\",\n",
    "                                \"eos_token\": \"<endofstring>\"})\n",
    "tokenizer.add_tokens([\"<bot>:\"])"
   ]
  },
  {
   "cell_type": "code",
   "execution_count": 48,
   "metadata": {},
   "outputs": [],
   "source": [
    "data = Dialog_Data(tokenizer=tokenizer)\n",
    "data = DataLoader(data, batch_size=64)"
   ]
  },
  {
   "cell_type": "markdown",
   "metadata": {},
   "source": [
    "### Load pretrained model"
   ]
  },
  {
   "cell_type": "code",
   "execution_count": 36,
   "metadata": {},
   "outputs": [
    {
     "data": {
      "text/plain": [
       "Embedding(50261, 768)"
      ]
     },
     "execution_count": 36,
     "metadata": {},
     "output_type": "execute_result"
    }
   ],
   "source": [
    "model = transformers.GPT2LMHeadModel.from_pretrained(\"gpt2\")\n",
    "model.resize_token_embeddings(len(tokenizer))"
   ]
  },
  {
   "cell_type": "code",
   "execution_count": 9,
   "metadata": {},
   "outputs": [],
   "source": [
    "config = transformers.GPT2Config.from_pretrained(\"gpt2\")\n",
    "config.do_sample = config.task_specific_params['text-generation']['do_sample']\n",
    "config.max_length = config.task_specific_params['text-generation']['max_length']\n",
    "model = transformers.GPT2LMHeadModel.from_pretrained(\"gpt2\", config=config)"
   ]
  },
  {
   "cell_type": "markdown",
   "metadata": {},
   "source": [
    "### First test"
   ]
  },
  {
   "cell_type": "code",
   "execution_count": 12,
   "metadata": {},
   "outputs": [
    {
     "name": "stderr",
     "output_type": "stream",
     "text": [
      "The attention mask and the pad token id were not set. As a consequence, you may observe unexpected behavior. Please pass your input's `attention_mask` to obtain reliable results.\n",
      "Setting `pad_token_id` to `eos_token_id`:50256 for open-end generation.\n"
     ]
    },
    {
     "data": {
      "text/plain": [
       "\"Create me an interactive story to calm me down.\\n\\nI'm an experienced writer and I've been writing for a long time and it's something to take a deep breath in. You always say you can't write your own dialogue without having done\""
      ]
     },
     "execution_count": 12,
     "metadata": {},
     "output_type": "execute_result"
    }
   ],
   "source": [
    "tokenizer.decode(model.generate(tokenizer.encode(\"Create me an interactive story to calm me down.\", return_tensors=\"pt\"))[0])"
   ]
  },
  {
   "cell_type": "code",
   "execution_count": null,
   "metadata": {},
   "outputs": [],
   "source": [
    "enc = tokenizer(['The elf queen'], return_tensors='pt')\n",
    "print('enc =', enc)\n",
    "print(tokenizer.batch_decode(enc['input_ids']))"
   ]
  },
  {
   "cell_type": "code",
   "execution_count": null,
   "metadata": {},
   "outputs": [],
   "source": [
    "out = model.generate(input_ids=enc['input_ids'],\n",
    "attention_mask=enc['attention_mask'], max_length=20)\n",
    "print('out=', out)\n",
    "print(tokenizer.batch_decode(out))"
   ]
  },
  {
   "cell_type": "markdown",
   "metadata": {},
   "source": [
    "### Fine Tune Model"
   ]
  },
  {
   "cell_type": "code",
   "execution_count": null,
   "metadata": {},
   "outputs": [],
   "source": [
    "\n",
    "optimizer = Adam(model.parameters(), lr=0.0001)\n",
    "epochs=10\n",
    "\n",
    "loss_hist = []\n",
    "steps = 0\n",
    "\n",
    "for cur_epoch in range(0, epochs):\n",
    "    model.train()\n",
    "    for input_ids, attention_mask in data:\n",
    "        # shift labels?\n",
    "        optimizer.zero_grad()\n",
    "        loss = model(input_ids, attention_maks=attention_mask, labels=input_ids).loss\n",
    "        loss_hist += [loss.item()]\n",
    "        loss.backward()\n",
    "        optimizer.step()\n",
    "        steps += 1\n",
    "    torch.save(model.state_dict(), \"./model_state.pt\")\n",
    "    print(f'Epoch {cur_epoch+1}/{epochs}, Training Loss: {loss.item():.4f}, Steps: {steps}')\n",
    "\n",
    "# plot loss\n",
    "fig, ax = plt.subplots(1, 1, figsize=(16, 8))\n",
    "ax.plot(np.arange(len(loss_hist)), loss_hist, label='Loss')\n",
    "ax.set_xlabel('Learning progress')\n",
    "ax.set_ylabel('Loss (normalized mean absolute error)')\n",
    "ax.set_title('Loss over time')\n",
    "ax.legend()\n",
    "ax.grid()"
   ]
  },
  {
   "cell_type": "code",
   "execution_count": null,
   "metadata": {},
   "outputs": [],
   "source": [
    "device = \"cuda\" if torch.cuda.is_available() else \"mps\" if torch.backends.mps.is_available() else \"cpu\""
   ]
  },
  {
   "cell_type": "markdown",
   "metadata": {},
   "source": [
    "### Save model"
   ]
  },
  {
   "cell_type": "code",
   "execution_count": null,
   "metadata": {},
   "outputs": [],
   "source": []
  },
  {
   "cell_type": "markdown",
   "metadata": {},
   "source": [
    "### Use the model"
   ]
  },
  {
   "cell_type": "code",
   "execution_count": null,
   "metadata": {},
   "outputs": [],
   "source": [
    "def inference(prompt:str, tokenizer):\n",
    "    prompt = f\"<startofstring> {data[idx]} <bot>:\"\n",
    "    prompt = tokenizer(prompt)\n",
    "    output = model.generate(prompt)\n",
    "    return tokenizer.decode(output[0])"
   ]
  },
  {
   "cell_type": "code",
   "execution_count": null,
   "metadata": {},
   "outputs": [],
   "source": []
  }
 ],
 "metadata": {
  "kernelspec": {
   "display_name": "Python 3",
   "language": "python",
   "name": "python3"
  },
  "language_info": {
   "codemirror_mode": {
    "name": "ipython",
    "version": 3
   },
   "file_extension": ".py",
   "mimetype": "text/x-python",
   "name": "python",
   "nbconvert_exporter": "python",
   "pygments_lexer": "ipython3",
   "version": "3.9.1"
  }
 },
 "nbformat": 4,
 "nbformat_minor": 2
}
