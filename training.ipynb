{
 "cells": [
  {
   "cell_type": "markdown",
   "metadata": {},
   "source": [
    "# Training\n",
    "Of an GPT2 model as calm down bot, to boosting your mind."
   ]
  },
  {
   "cell_type": "code",
   "execution_count": 17,
   "metadata": {},
   "outputs": [],
   "source": [
    "import numpy as np\n",
    "import pandas as pd\n",
    "\n",
    "import os\n",
    "import pyperclip"
   ]
  },
  {
   "cell_type": "markdown",
   "metadata": {},
   "source": [
    "### Create Traindata\n",
    "\n",
    "create commands for ChatGPT for Data generation"
   ]
  },
  {
   "cell_type": "code",
   "execution_count": 2,
   "metadata": {},
   "outputs": [],
   "source": [
    "anxiety_types = [\n",
    "    \"Generalized Anxiety Disorder (GAD)\",\n",
    "    \"Panic Disorder\",\n",
    "    \"Phobia-related disorders\",\n",
    "    \"Social Anxiety Disorder (Social Phobia)\",\n",
    "    \"Separation Anxiety Disorder\",\n",
    "    \"Agoraphobia\",\n",
    "    \"Selective Mutism\",\n",
    "    \"Substance/Medication-Induced Anxiety Disorder\",\n",
    "    \"Anxiety Disorder Due to Another Medical Condition\",\n",
    "    \"Other Specified Anxiety Disorder\",\n",
    "    \"Unspecified Anxiety Disorder\",\n",
    "    \"Obsessive-Compulsive Disorder (OCD)\",\n",
    "    \"Post-Traumatic Stress Disorder (PTSD)\",\n",
    "    \"Acute Stress Disorder\",\n",
    "    \"Adjustment Disorder\",\n",
    "    \"Anxiety Disorder Not Otherwise Specified (NOS)\",\n",
    "    \"Body Dysmorphic Disorder\",\n",
    "    \"Hypochondriasis\",\n",
    "    \"Neurasthenia\",\n",
    "    \"Somatization Disorder\",\n",
    "    \"Undifferentiated Somatoform Disorder\"\n",
    "]\n",
    "\n",
    "problems = [\n",
    "    \"Financial difficulties\",\n",
    "    \"Health issues\",\n",
    "    \"Relationship problems\",\n",
    "    \"Work stress\",\n",
    "    \"Lack of self-confidence\",\n",
    "    \"Depression\",\n",
    "    \"Anxiety\",\n",
    "    \"Substance abuse\",\n",
    "    \"Lack of motivation\",\n",
    "    \"Feeling of loneliness\",\n",
    "    \"Fear of failure\",\n",
    "    \"Procrastination\",\n",
    "    \"Struggling with change\",\n",
    "    \"Time management\",\n",
    "    \"Dealing with loss\",\n",
    "    \"Overwhelm\",\n",
    "    \"Fear of success\",\n",
    "    \"Lack of direction\",\n",
    "    \"Perfectionism\",\n",
    "    \"Fear of the unknown\",\n",
    "    \"Struggling with decision making\",\n",
    "    \"Balancing work and family\",\n",
    "    \"Coping with major life events\",\n",
    "    \"Managing anger\",\n",
    "    \"Maintaining a healthy lifestyle\",\n",
    "    \"Dealing with discrimination\",\n",
    "    \"Struggling with self-identity\",\n",
    "    \"Lack of purpose\",\n",
    "    \"Managing stress\",\n",
    "    \"Dealing with guilt or regret\"\n",
    "]\n"
   ]
  },
  {
   "cell_type": "code",
   "execution_count": 11,
   "metadata": {},
   "outputs": [],
   "source": [
    "common_commands = [\n",
    "    \"Erstelle mir eine motivierende und positive Konversation zwischen 2 Personen. Die eine Person hat gerade große Angst und Panikattacken. Die andere Person ist rational und postiv und versucht der anderen Person zu helfen und positiv zu denken (wie ein Therapeut).\",\n",
    "\t\"Create a boosting conversation between a patient and a therapist. The patient have much stress and anxiety. The Therapist is very positive and supporitve. Make an backslash by a switch of the speaker.\",\n",
    "\t\"Make a dialog, where someone is anxious and the other person calm him down and shows him one simple meditation or breathing technique.\",\n",
    "\t\"Make a dialog, where someone is anxious and the other person calm him down and says that everything will be fine and the he should be not thinking on the future and that he just should accept the feeling, he can't do something against it now but it will be better soon.\",\n",
    "\t\"Make a dialog, where someone talks about something and the other person is very positive nd cherful and is very curious and ask questions.\",\n",
    "\t\"Make an dialog were the someone feels not good and the other person tries to boost the person and tries to distract him on something positive.\",\n",
    "    \"Make a dialog were one person have a problem and the other person tries to help him and let him conventrate on the positive.\"\n",
    "]"
   ]
  },
  {
   "cell_type": "code",
   "execution_count": 5,
   "metadata": {},
   "outputs": [],
   "source": [
    "post_adding = \"Write the dialog on english and use following format:\\nPerson A: ... \\nPerson B: ... \\nPerson A: ... \\n...\""
   ]
  },
  {
   "cell_type": "code",
   "execution_count": 25,
   "metadata": {},
   "outputs": [],
   "source": [
    "def create_new_file():\n",
    "    file_name = \"01_conversation.txt\"\n",
    "    i = 1\n",
    "    while file_name in os.listdir(\"./data/\"):\n",
    "        i += 1\n",
    "        file_name = f\"{i:02d}_conversation.txt\"\n",
    "    with open(f\"./data/{file_name}\", \"w\") as f:\n",
    "        f.write(\"\")"
   ]
  },
  {
   "cell_type": "code",
   "execution_count": 26,
   "metadata": {},
   "outputs": [
    {
     "name": "stdout",
     "output_type": "stream",
     "text": [
      "I choose a problem\n",
      "\n",
      "Command is copied!\n",
      "\n",
      "\"ChatGPT data genertion command:\n",
      "Make a dialog, where someone talks about his/her Relationship problems and the other person is very positive and cherful and is very curious and ask questions. The other person tries to help and calm the person down.\n",
      "write the dialog on english and use following format:\n",
      "Person A: ... \n",
      "Person B: ... \n",
      "Person A: ... \n",
      "...\"\n"
     ]
    }
   ],
   "source": [
    "command = \"\"\n",
    "if np.random.random() > 0.4:\n",
    "    print(\"I choose a common command\")\n",
    "    command = np.random.choice(common_commands)\n",
    "else:\n",
    "    if np.random.random() > 0.5:\n",
    "        print(\"I choose a anxiety\")\n",
    "        problem = np.random.choice(anxiety_types)\n",
    "    else:\n",
    "        print(\"I choose a problem\")\n",
    "        problem = np.random.choice(problems)\n",
    "    command = f\"Make a dialog, where someone talks about his/her {problem} and the other person is very positive and cherful and is very curious and ask questions. The other person tries to help and calm the person down.\"\n",
    "\n",
    "command += f\"\\n{post_adding}\"\n",
    "\n",
    "pyperclip.copy(command)\n",
    "print(\"\\nCommand is copied!\\n\")\n",
    "\n",
    "print(f\"\\\"ChatGPT data genertion command:\\n{command}\\\"\")\n",
    "\n",
    "create_new_file();"
   ]
  },
  {
   "cell_type": "markdown",
   "metadata": {},
   "source": [
    "---"
   ]
  }
 ],
 "metadata": {
  "kernelspec": {
   "display_name": "Python 3",
   "language": "python",
   "name": "python3"
  },
  "language_info": {
   "codemirror_mode": {
    "name": "ipython",
    "version": 3
   },
   "file_extension": ".py",
   "mimetype": "text/x-python",
   "name": "python",
   "nbconvert_exporter": "python",
   "pygments_lexer": "ipython3",
   "version": "3.12.0"
  }
 },
 "nbformat": 4,
 "nbformat_minor": 2
}
